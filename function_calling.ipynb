{
 "cells": [
  {
   "cell_type": "code",
   "execution_count": 1,
   "metadata": {},
   "outputs": [],
   "source": [
    "import os\n",
    "import openai\n",
    "from constant import openai_key\n",
    "\n",
    "openai.api_key = openai_key"
   ]
  },
  {
   "cell_type": "code",
   "execution_count": 2,
   "metadata": {},
   "outputs": [],
   "source": [
    "completion = openai.ChatCompletion.create(\n",
    "    model=\"gpt-3.5-turbo\",\n",
    "    messages=[\n",
    "        {\"role\":\"system\",\"content\":\"You are a assistant which informs about temperature.\"},\n",
    "        {\"role\":\"user\",\"content\":\"Hey there\"}\n",
    "    ]\n",
    ")"
   ]
  },
  {
   "cell_type": "code",
   "execution_count": 3,
   "metadata": {},
   "outputs": [
    {
     "name": "stdout",
     "output_type": "stream",
     "text": [
      "{\n",
      "  \"role\": \"assistant\",\n",
      "  \"content\": \"Hello! How can I assist you today?\"\n",
      "}\n"
     ]
    }
   ],
   "source": [
    "print(completion.choices[0].message)"
   ]
  },
  {
   "cell_type": "code",
   "execution_count": 14,
   "metadata": {},
   "outputs": [],
   "source": [
    "# Example dummy function hard coded to return the location details\n",
    "# In production, this could be your backend API or an external API\n",
    "import requests\n",
    "import json\n",
    "def get_current_location(location):\n",
    "    \"\"\"Get the current weather in a given location\"\"\"\n",
    "    \n",
    "    url = \"https://ai-weather-by-meteosource.p.rapidapi.com/find_places\"\n",
    "\n",
    "    querystring = {\"text\":location}\n",
    "\n",
    "    headers = {\n",
    "        \"X-RapidAPI-Key\": \"aed5bbd29emsh2584d9cc989678fp156e9ajsnf6678f1253cd\",\n",
    "        \"X-RapidAPI-Host\": \"ai-weather-by-meteosource.p.rapidapi.com\"\n",
    "    }\n",
    "\n",
    "    response = requests.get(url, headers=headers, params=querystring)\n",
    "\n",
    "    print(type(response))\n",
    "    \n",
    "    return response.json()\n",
    "          \n",
    "    "
   ]
  },
  {
   "cell_type": "code",
   "execution_count": 15,
   "metadata": {},
   "outputs": [
    {
     "name": "stdout",
     "output_type": "stream",
     "text": [
      "<class 'requests.models.Response'>\n"
     ]
    }
   ],
   "source": [
    "response=get_current_location('Vijayawada')"
   ]
  },
  {
   "cell_type": "code",
   "execution_count": 16,
   "metadata": {},
   "outputs": [
    {
     "data": {
      "text/plain": [
       "[{'name': 'Vijayawada',\n",
       "  'place_id': 'vijayawada',\n",
       "  'adm_area1': 'Andhra Pradesh',\n",
       "  'adm_area2': 'Krishna',\n",
       "  'country': 'India',\n",
       "  'lat': '16.50745N',\n",
       "  'lon': '80.6466E',\n",
       "  'timezone': 'Asia/Kolkata',\n",
       "  'type': 'settlement'},\n",
       " {'name': 'Vijayawāda',\n",
       "  'place_id': 'vijayawada-10505091',\n",
       "  'adm_area1': 'Madhya Pradesh',\n",
       "  'adm_area2': 'Chhatarpur',\n",
       "  'country': 'India',\n",
       "  'lat': '24.80851N',\n",
       "  'lon': '79.81707E',\n",
       "  'timezone': 'Asia/Kolkata',\n",
       "  'type': 'settlement'},\n",
       " {'name': 'Buckinghampet',\n",
       "  'place_id': 'buckinghampet-1275170',\n",
       "  'adm_area1': 'Andhra Pradesh',\n",
       "  'adm_area2': 'Krishna',\n",
       "  'country': 'India',\n",
       "  'lat': '16.5108N',\n",
       "  'lon': '80.62871E',\n",
       "  'timezone': 'Asia/Kolkata',\n",
       "  'type': 'settlement'},\n",
       " {'name': 'Vijayawada Airport',\n",
       "  'place_id': 'vijayawada-airport',\n",
       "  'adm_area1': 'Andhra Pradesh',\n",
       "  'adm_area2': 'Krishna',\n",
       "  'country': 'India',\n",
       "  'lat': '16.53043N',\n",
       "  'lon': '80.79685E',\n",
       "  'timezone': 'Asia/Kolkata',\n",
       "  'type': 'airport'}]"
      ]
     },
     "execution_count": 16,
     "metadata": {},
     "output_type": "execute_result"
    }
   ],
   "source": [
    "response"
   ]
  },
  {
   "cell_type": "code",
   "execution_count": 22,
   "metadata": {},
   "outputs": [],
   "source": [
    "# Example dummy function hard coded to return the weather details for gievn location\n",
    "# In production, this could be your backend API or an external API\n",
    "import requests\n",
    "import json\n",
    "def get_current_weather(location):\n",
    "    \"\"\"Get the current weather in a given location\"\"\"\n",
    "    import requests\n",
    "\n",
    "    url = \"https://ai-weather-by-meteosource.p.rapidapi.com/current\"\n",
    "\n",
    "    querystring = {\"lat\":\"16.50745N\",\"lon\":\"79.81707E\",\"timezone\":\"auto\",\"language\":\"en\",\"units\":\"auto\"}\n",
    "\n",
    "    headers = {\n",
    "        \"X-RapidAPI-Key\": \"aed5bbd29emsh2584d9cc989678fp156e9ajsnf6678f1253cd\",\n",
    "        \"X-RapidAPI-Host\": \"ai-weather-by-meteosource.p.rapidapi.com\"\n",
    "    }\n",
    "\n",
    "    response = requests.get(url, headers=headers, params=querystring)\n",
    "    print(type(response))\n",
    "    return response.json()"
   ]
  },
  {
   "cell_type": "code",
   "execution_count": 23,
   "metadata": {},
   "outputs": [
    {
     "name": "stdout",
     "output_type": "stream",
     "text": [
      "<class 'requests.models.Response'>\n"
     ]
    }
   ],
   "source": [
    "response=get_current_weather('Vijayawada')"
   ]
  },
  {
   "cell_type": "code",
   "execution_count": 24,
   "metadata": {},
   "outputs": [
    {
     "data": {
      "text/plain": [
       "{'lat': '16.50745N',\n",
       " 'lon': '79.81707E',\n",
       " 'elevation': 114,\n",
       " 'timezone': 'Asia/Kolkata',\n",
       " 'units': 'metric',\n",
       " 'current': {'icon': 'partly_sunny',\n",
       "  'icon_num': 4,\n",
       "  'summary': 'Partly sunny',\n",
       "  'temperature': 24.2,\n",
       "  'feels_like': 28.0,\n",
       "  'wind_chill': 25.5,\n",
       "  'dew_point': 20.8,\n",
       "  'wind': {'speed': 2.7, 'gusts': 7.2, 'angle': 178, 'dir': 'S'},\n",
       "  'precipitation': {'total': 0.0, 'type': 'none'},\n",
       "  'cloud_cover': 48,\n",
       "  'ozone': 249.25,\n",
       "  'pressure': 1013,\n",
       "  'uv_index': 0.0,\n",
       "  'humidity': 80,\n",
       "  'visibility': 24.13}}"
      ]
     },
     "execution_count": 24,
     "metadata": {},
     "output_type": "execute_result"
    }
   ],
   "source": [
    "response"
   ]
  },
  {
   "cell_type": "code",
   "execution_count": 48,
   "metadata": {},
   "outputs": [],
   "source": [
    "functions = [\n",
    "    {\n",
    "        \"name\":\"get_current_location\",\n",
    "        \"description\":\"Get the current location in a given location\",\n",
    "        \"parameters\":{\n",
    "            \"type\":\"object\",\n",
    "            \"properties\": {\n",
    "                \"location\":{\n",
    "                    \"type\":\"string\",\n",
    "                    \"description\":\"The city and state, e.g. San Francisco, CA\",\n",
    "                    \n",
    "                },\n",
    "            },\n",
    "           \"required\": [\"location\"], \n",
    "        },\n",
    "    },\n",
    "    {\n",
    "        \"name\":\"get_current_weather\",\n",
    "        \"description\":\"Get the current weather in a given location\",\n",
    "        \"parameters\":{\n",
    "            \"type\":\"object\",\n",
    "            \"properties\": {\n",
    "                \"weather\":{\n",
    "                    \"type\":\"string\",\n",
    "                    \"description\":\"The city and state, e.g. San Francisco, CA\",\n",
    "                    \n",
    "                },\n",
    "            },\n",
    "           \"required\": [\"weather\"], \n",
    "        },\n",
    "    }\n",
    "]"
   ]
  },
  {
   "cell_type": "code",
   "execution_count": 49,
   "metadata": {},
   "outputs": [
    {
     "data": {
      "text/plain": [
       "[{'name': 'get_current_location',\n",
       "  'description': 'Get the current location in a given location',\n",
       "  'parameters': {'type': 'object',\n",
       "   'properties': {'location': {'type': 'string',\n",
       "     'description': 'The city and state, e.g. San Francisco, CA'}},\n",
       "   'required': ['location']}},\n",
       " {'name': 'get_current_weather',\n",
       "  'description': 'Get the current weather in a given location',\n",
       "  'parameters': {'type': 'object',\n",
       "   'properties': {'weather': {'type': 'string',\n",
       "     'description': 'The city and state, e.g. San Francisco, CA'}},\n",
       "   'required': ['weather']}}]"
      ]
     },
     "execution_count": 49,
     "metadata": {},
     "output_type": "execute_result"
    }
   ],
   "source": [
    "functions"
   ]
  },
  {
   "cell_type": "code",
   "execution_count": 50,
   "metadata": {},
   "outputs": [],
   "source": [
    "user_message = \"Hi There\"\n",
    "messages =[]\n",
    "messages.append({\"role\":\"user\",\"content\":user_message})\n",
    "completion = openai.ChatCompletion.create(\n",
    "    model=\"gpt-3.5-turbo\",\n",
    "    messages=\n",
    "    messages\n",
    ")"
   ]
  },
  {
   "cell_type": "code",
   "execution_count": 51,
   "metadata": {},
   "outputs": [
    {
     "name": "stdout",
     "output_type": "stream",
     "text": [
      "{\n",
      "  \"role\": \"assistant\",\n",
      "  \"content\": \"Hello! How can I assist you today?\"\n",
      "}\n"
     ]
    }
   ],
   "source": [
    "print(completion.choices[0].message)"
   ]
  },
  {
   "cell_type": "code",
   "execution_count": 52,
   "metadata": {},
   "outputs": [
    {
     "data": {
      "text/plain": [
       "[{'role': 'user', 'content': 'Hi There'}]"
      ]
     },
     "execution_count": 52,
     "metadata": {},
     "output_type": "execute_result"
    }
   ],
   "source": [
    "messages"
   ]
  },
  {
   "cell_type": "code",
   "execution_count": 53,
   "metadata": {},
   "outputs": [],
   "source": [
    "user_message = \"what is the temerature of Vijayawada\"\n",
    "\n",
    "messages.append({\"role\":\"user\", \"content\":user_message})\n",
    "completion=openai.ChatCompletion.create(\n",
    "    model=\"gpt-3.5-turbo-0613\",\n",
    "    messages=messages,\n",
    "    functions=functions\n",
    ")"
   ]
  },
  {
   "cell_type": "code",
   "execution_count": 54,
   "metadata": {},
   "outputs": [
    {
     "data": {
      "text/plain": [
       "[{'role': 'user', 'content': 'Hi There'},\n",
       " {'role': 'user', 'content': 'what is the temerature of Vijayawada'}]"
      ]
     },
     "execution_count": 54,
     "metadata": {},
     "output_type": "execute_result"
    }
   ],
   "source": [
    "messages"
   ]
  },
  {
   "cell_type": "code",
   "execution_count": null,
   "metadata": {},
   "outputs": [],
   "source": []
  },
  {
   "cell_type": "code",
   "execution_count": null,
   "metadata": {},
   "outputs": [],
   "source": []
  },
  {
   "cell_type": "code",
   "execution_count": null,
   "metadata": {},
   "outputs": [],
   "source": []
  },
  {
   "cell_type": "code",
   "execution_count": 55,
   "metadata": {},
   "outputs": [
    {
     "name": "stdout",
     "output_type": "stream",
     "text": [
      "{\n",
      "  \"role\": \"assistant\",\n",
      "  \"content\": null,\n",
      "  \"function_call\": {\n",
      "    \"name\": \"get_current_weather\",\n",
      "    \"arguments\": \"{\\n  \\\"weather\\\": \\\"Vijayawada\\\"\\n}\"\n",
      "  }\n",
      "}\n"
     ]
    }
   ],
   "source": [
    "print(completion.choices[0].message)"
   ]
  },
  {
   "cell_type": "code",
   "execution_count": 56,
   "metadata": {},
   "outputs": [],
   "source": [
    "response = completion.choices[0].message"
   ]
  },
  {
   "cell_type": "code",
   "execution_count": 57,
   "metadata": {},
   "outputs": [
    {
     "data": {
      "text/plain": [
       "<OpenAIObject at 0x1c98a59d180> JSON: {\n",
       "  \"role\": \"assistant\",\n",
       "  \"content\": null,\n",
       "  \"function_call\": {\n",
       "    \"name\": \"get_current_weather\",\n",
       "    \"arguments\": \"{\\n  \\\"weather\\\": \\\"Vijayawada\\\"\\n}\"\n",
       "  }\n",
       "}"
      ]
     },
     "execution_count": 57,
     "metadata": {},
     "output_type": "execute_result"
    }
   ],
   "source": [
    "response"
   ]
  },
  {
   "cell_type": "code",
   "execution_count": 58,
   "metadata": {},
   "outputs": [
    {
     "name": "stdout",
     "output_type": "stream",
     "text": [
      "get_current_weather\n"
     ]
    }
   ],
   "source": [
    "function_name =response['function_call']['name']\n",
    "print(function_name)"
   ]
  },
  {
   "cell_type": "code",
   "execution_count": 59,
   "metadata": {},
   "outputs": [
    {
     "name": "stdout",
     "output_type": "stream",
     "text": [
      "Vijayawada\n"
     ]
    }
   ],
   "source": [
    "import json\n",
    "location = eval(response['function_call']['arguments'])['weather']\n",
    "print(location)"
   ]
  },
  {
   "cell_type": "code",
   "execution_count": 60,
   "metadata": {},
   "outputs": [],
   "source": [
    "#Step 4: send the info on the function call and function response to GPT\n",
    "messages.append(response) # extend conversation with assistant's reply\n",
    "messages.append(\n",
    "    {\n",
    "        \"role\":\"function\",\n",
    "        \"name\":function_name,\n",
    "        \"content\":location,\n",
    "    }\n",
    ")"
   ]
  },
  {
   "cell_type": "code",
   "execution_count": 61,
   "metadata": {},
   "outputs": [
    {
     "data": {
      "text/plain": [
       "[{'role': 'user', 'content': 'Hi There'},\n",
       " {'role': 'user', 'content': 'what is the temerature of Vijayawada'},\n",
       " <OpenAIObject at 0x1c98a59d180> JSON: {\n",
       "   \"role\": \"assistant\",\n",
       "   \"content\": null,\n",
       "   \"function_call\": {\n",
       "     \"name\": \"get_current_weather\",\n",
       "     \"arguments\": \"{\\n  \\\"weather\\\": \\\"Vijayawada\\\"\\n}\"\n",
       "   }\n",
       " },\n",
       " {'role': 'function', 'name': 'get_current_weather', 'content': 'Vijayawada'}]"
      ]
     },
     "execution_count": 61,
     "metadata": {},
     "output_type": "execute_result"
    }
   ],
   "source": [
    "messages"
   ]
  },
  {
   "cell_type": "code",
   "execution_count": 62,
   "metadata": {},
   "outputs": [],
   "source": [
    "# extend conversation with function response\n",
    "second_response = openai.ChatCompletion.create(\n",
    "    model=\"gpt-3.5-turbo-0613\",\n",
    "    messages = messages,\n",
    "    functions =functions\n",
    "    \n",
    ") # get a new response from GPT where it can see the function response\n"
   ]
  },
  {
   "cell_type": "code",
   "execution_count": 63,
   "metadata": {},
   "outputs": [
    {
     "data": {
      "text/plain": [
       "<OpenAIObject chat.completion id=chatcmpl-91m76nsSe28iB8HRSV9OWu4QLpFQ9 at 0x1c98a56edb0> JSON: {\n",
       "  \"id\": \"chatcmpl-91m76nsSe28iB8HRSV9OWu4QLpFQ9\",\n",
       "  \"object\": \"chat.completion\",\n",
       "  \"created\": 1710210304,\n",
       "  \"model\": \"gpt-3.5-turbo-0613\",\n",
       "  \"choices\": [\n",
       "    {\n",
       "      \"index\": 0,\n",
       "      \"message\": {\n",
       "        \"role\": \"assistant\",\n",
       "        \"content\": \"The current temperature in Vijayawada is 34\\u00b0C.\"\n",
       "      },\n",
       "      \"logprobs\": null,\n",
       "      \"finish_reason\": \"stop\"\n",
       "    }\n",
       "  ],\n",
       "  \"usage\": {\n",
       "    \"prompt_tokens\": 154,\n",
       "    \"completion_tokens\": 14,\n",
       "    \"total_tokens\": 168\n",
       "  },\n",
       "  \"system_fingerprint\": null\n",
       "}"
      ]
     },
     "execution_count": 63,
     "metadata": {},
     "output_type": "execute_result"
    }
   ],
   "source": [
    "second_response"
   ]
  },
  {
   "cell_type": "code",
   "execution_count": null,
   "metadata": {},
   "outputs": [],
   "source": []
  }
 ],
 "metadata": {
  "kernelspec": {
   "display_name": "Python 3",
   "language": "python",
   "name": "python3"
  },
  "language_info": {
   "codemirror_mode": {
    "name": "ipython",
    "version": 3
   },
   "file_extension": ".py",
   "mimetype": "text/x-python",
   "name": "python",
   "nbconvert_exporter": "python",
   "pygments_lexer": "ipython3",
   "version": "3.9.18"
  }
 },
 "nbformat": 4,
 "nbformat_minor": 2
}
